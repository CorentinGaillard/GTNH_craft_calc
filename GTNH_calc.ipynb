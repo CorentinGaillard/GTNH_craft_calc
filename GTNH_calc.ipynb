{
  "nbformat": 4,
  "nbformat_minor": 0,
  "metadata": {
    "colab": {
      "name": "Untitled0.ipynb",
      "provenance": [],
      "collapsed_sections": [],
      "authorship_tag": "ABX9TyOKBWxK0SHsiRGVy9YcHnYB",
      "include_colab_link": true
    },
    "kernelspec": {
      "name": "python3",
      "display_name": "Python 3"
    }
  },
  "cells": [
    {
      "cell_type": "markdown",
      "metadata": {
        "id": "view-in-github",
        "colab_type": "text"
      },
      "source": [
        "<a href=\"https://colab.research.google.com/github/CorentinGaillard/GTNH_craft_calc/blob/main/GTNH_calc.ipynb\" target=\"_parent\"><img src=\"https://colab.research.google.com/assets/colab-badge.svg\" alt=\"Open In Colab\"/></a>"
      ]
    },
    {
      "cell_type": "markdown",
      "metadata": {
        "id": "Zyp_9RPRSHL6"
      },
      "source": [
        "# GTNH Calculator\n",
        "\n",
        "It takes in a csv with all the recipe you are interested in, and outputs a list of all the ressources you will need"
      ]
    }
  ]
}